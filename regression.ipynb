{
 "cells": [
  {
   "cell_type": "code",
   "execution_count": 29,
   "metadata": {},
   "outputs": [],
   "source": [
    "import sklearn.datasets as skd\n",
    "import sklearn.metrics as skm\n",
    "from sklearn.model_selection import train_test_split\n",
    "import numpy as np\n",
    "import jax\n",
    "import jax.numpy as jnp\n",
    "import jaxopt\n",
    "import flax.linen as nn\n",
    "import optax\n",
    "from tqdm.auto import trange"
   ]
  },
  {
   "cell_type": "code",
   "execution_count": 3,
   "metadata": {},
   "outputs": [],
   "source": [
    "def evaluate(Y_test, preds):\n",
    "    print(f\"R2 score: {skm.r2_score(Y_test, preds)}\")\n",
    "    print(f\"MAE: {skm.mean_absolute_error(Y_test, preds)}\")"
   ]
  },
  {
   "cell_type": "code",
   "execution_count": 4,
   "metadata": {},
   "outputs": [],
   "source": [
    "X, Y = skd.fetch_california_housing(return_X_y=True)\n",
    "\n",
    "X_train, X_test, Y_train, Y_test = train_test_split(X, Y, test_size=0.3, random_state=42)"
   ]
  },
  {
   "cell_type": "code",
   "execution_count": 49,
   "metadata": {},
   "outputs": [
    {
     "name": "stderr",
     "output_type": "stream",
     "text": [
      "100%|██████████| 5000/5000 [00:01<00:00, 2664.06it/s, Loss: 33426.890625]   \n"
     ]
    },
    {
     "name": "stdout",
     "output_type": "stream",
     "text": [
      "R2 score: -23226.030187432847\n",
      "MAE: 152.35350469279385\n"
     ]
    }
   ],
   "source": [
    "class MLPRegressor(nn.Module):\n",
    "    @nn.compact\n",
    "    def __call__(self, x):\n",
    "        x = nn.Dense(100)(x)\n",
    "        x = nn.relu(x)\n",
    "        x = nn.Dense(1)(x)\n",
    "        return x\n",
    "\n",
    "\n",
    "def mean_squared_error(model):\n",
    "    def _apply(params, X, Y):\n",
    "        return jnp.mean((model.apply(variables, X) - Y)**2)\n",
    "    return _apply\n",
    "\n",
    "def mean_absolute_error(model):\n",
    "    def _apply(params, X, Y):\n",
    "        return jnp.mean(jnp.abs(model.apply(variables, X) - Y))\n",
    "    return _apply\n",
    "\n",
    "\n",
    "model = MLPRegressor()\n",
    "variables = model.init(jax.random.PRNGKey(42), X_train[:1])\n",
    "solver = jaxopt.OptaxSolver(opt=optax.adam(0.001), fun=mean_squared_error(model))\n",
    "state = solver.init_state(variables, X_train[:1], Y_train[:1])\n",
    "step = jax.jit(solver.update)\n",
    "rng = np.random.default_rng(42)\n",
    "\n",
    "for r in (pbar := trange(5000)):\n",
    "    idx = rng.choice(len(Y_train), 200, replace=False)\n",
    "    variables, state = step(params=variables, state=state, X=X_train[idx], Y=Y_train[idx])\n",
    "    pbar.set_postfix_str(f\"Loss: {state.value}\")\n",
    "\n",
    "# model = create_model(X_train[0].shape)\n",
    "# model.fit(X_train, Y_train, epochs=200, batch_size=200)\n",
    "evaluate(Y_test, model.apply(variables, X_test))"
   ]
  },
  {
   "cell_type": "code",
   "execution_count": 50,
   "metadata": {},
   "outputs": [
    {
     "name": "stdout",
     "output_type": "stream",
     "text": [
      "R2 score: 0.4914483094206872\n",
      "MAE: 0.5884081193797143\n"
     ]
    }
   ],
   "source": [
    "import sklearn.linear_model as sklm\n",
    "import sklearn.neural_network as sknn\n",
    "\n",
    "model = sknn.MLPRegressor().fit(X_train, Y_train)\n",
    "evaluate(Y_test, model.predict(X_test))"
   ]
  }
 ],
 "metadata": {
  "kernelspec": {
   "display_name": ".venv",
   "language": "python",
   "name": "python3"
  },
  "language_info": {
   "codemirror_mode": {
    "name": "ipython",
    "version": 3
   },
   "file_extension": ".py",
   "mimetype": "text/x-python",
   "name": "python",
   "nbconvert_exporter": "python",
   "pygments_lexer": "ipython3",
   "version": "3.11.5"
  },
  "orig_nbformat": 4
 },
 "nbformat": 4,
 "nbformat_minor": 2
}
