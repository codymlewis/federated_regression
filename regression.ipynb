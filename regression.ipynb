{
 "cells": [
  {
   "cell_type": "code",
   "execution_count": 47,
   "metadata": {},
   "outputs": [],
   "source": [
    "from typing import NamedTuple, Tuple\n",
    "from numpy.typing import NDArray, ArrayLike\n",
    "import numpy as np\n",
    "import tensorflow as tf\n",
    "import sklearn.datasets as skd\n",
    "import sklearn.metrics as skm\n",
    "from sklearn.model_selection import train_test_split\n",
    "from tqdm.auto import trange\n",
    "\n",
    "seed = round(np.pi**15 + np.e * 21)\n",
    "tf.random.set_seed(seed)\n",
    "rng = np.random.default_rng(seed)\n",
    "batch_size = 200\n",
    "num_epochs= 25"
   ]
  },
  {
   "cell_type": "code",
   "execution_count": 48,
   "metadata": {},
   "outputs": [],
   "source": [
    "def evaluate(Y_test: NDArray, preds: ArrayLike):\n",
    "    print(f\"R2 score: {skm.r2_score(Y_test, preds)}\")\n",
    "    print(f\"MAE: {skm.mean_absolute_error(Y_test, preds)}\")"
   ]
  },
  {
   "cell_type": "code",
   "execution_count": 49,
   "metadata": {},
   "outputs": [],
   "source": [
    "X, Y = skd.fetch_california_housing(return_X_y=True)\n",
    "\n",
    "X_train, X_test, Y_train, Y_test = train_test_split(X, Y, test_size=0.2, random_state=seed)"
   ]
  },
  {
   "cell_type": "code",
   "execution_count": 63,
   "metadata": {},
   "outputs": [
    {
     "name": "stdout",
     "output_type": "stream",
     "text": [
      "R2 score: 0.5767536023050737\n",
      "MAE: 0.5342495543977387\n"
     ]
    }
   ],
   "source": [
    "def create_model(input_shape: Tuple[int]):\n",
    "    inputs = tf.keras.layers.Input(input_shape)\n",
    "    x = inputs\n",
    "    x = tf.keras.layers.Dense(100, activation=\"sigmoid\")(x)\n",
    "    x = tf.keras.layers.Dense(1, activation=\"relu\")(x)  # All labels are positive\n",
    "    model = tf.keras.Model(inputs=inputs, outputs=x)\n",
    "    model.compile(optimizer=tf.keras.optimizers.Lion(0.0001), loss=\"mean_absolute_error\")\n",
    "    return model\n",
    "\n",
    "model = create_model(X_train[0].shape)\n",
    "model.fit(X_train, Y_train, batch_size=batch_size, epochs=50, verbose=0)\n",
    "evaluate(Y_test, model.predict(X_test, verbose=0))"
   ]
  },
  {
   "cell_type": "code",
   "execution_count": 71,
   "metadata": {},
   "outputs": [],
   "source": [
    "num_clients = 10\n",
    "\n",
    "class ClientData(NamedTuple):\n",
    "    X: NDArray\n",
    "    Y: NDArray\n",
    "\n",
    "\n",
    "X_train_alloc = X_train.copy()\n",
    "Y_train_alloc = Y_train.copy()\n",
    "\n",
    "all_client_data = []\n",
    "for c in range(num_clients - 1):\n",
    "    Y_mean = rng.choice(Y_train_alloc)\n",
    "    num_samples = len(Y_train) // num_clients\n",
    "    idx = np.argpartition(np.abs(Y_train_alloc - Y_mean), num_samples)[:num_samples]\n",
    "    client_data = ClientData(X_train_alloc[idx].copy(), Y_train_alloc[idx].copy())\n",
    "    X_train_alloc, Y_train_alloc = np.delete(X_train_alloc, idx, axis=0), np.delete(Y_train_alloc, idx, axis=0)\n",
    "    all_client_data.append(client_data)\n",
    "\n",
    "all_client_data.append(ClientData(X_train_alloc.copy(), Y_train_alloc.copy()))"
   ]
  },
  {
   "cell_type": "code",
   "execution_count": 52,
   "metadata": {},
   "outputs": [],
   "source": [
    "def fedavg(client_parameters, client_samples):\n",
    "    agg_parameters = []\n",
    "    num_layers = len(client_parameters[0])\n",
    "    for i in range(num_layers):\n",
    "        agg_parameters.append(np.average([cp[i] for cp in client_parameters], weights=client_samples, axis=0))\n",
    "    return agg_parameters"
   ]
  },
  {
   "cell_type": "code",
   "execution_count": 72,
   "metadata": {},
   "outputs": [
    {
     "name": "stderr",
     "output_type": "stream",
     "text": [
      "100%|██████████| 250/250 [01:29<00:00,  2.80it/s, Loss: 0.865]"
     ]
    },
    {
     "name": "stdout",
     "output_type": "stream",
     "text": [
      "R2 score: -0.08201055973888915\n",
      "MAE: 0.883749073947936\n"
     ]
    },
    {
     "name": "stderr",
     "output_type": "stream",
     "text": [
      "\n"
     ]
    },
    {
     "ename": "",
     "evalue": "",
     "output_type": "error",
     "traceback": [
      "\u001b[1;31mThe Kernel crashed while executing code in the the current cell or a previous cell. Please review the code in the cell(s) to identify a possible cause of the failure. Click <a href='https://aka.ms/vscodeJupyterKernelCrash'>here</a> for more info. View Jupyter <a href='command:jupyter.viewOutput'>log</a> for further details."
     ]
    }
   ],
   "source": [
    "num_rounds = 250\n",
    "\n",
    "global_model = create_model(X_train[0].shape)\n",
    "client_models = [create_model(X_train[0].shape) for _ in range(num_clients)]\n",
    "num_client_samples = [len(cd.Y) for cd in all_client_data]\n",
    "\n",
    "for r in (pbar := trange(num_rounds)):\n",
    "    losses = []\n",
    "    for client_model, client_data in zip(client_models, all_client_data):\n",
    "        client_model.set_weights(global_model.get_weights())\n",
    "        history = client_model.fit(client_data.X, client_data.Y, batch_size=batch_size, verbose=0)\n",
    "        losses.append(history.history['loss'][0])\n",
    "    global_model.set_weights(fedavg([cm.get_weights() for cm in client_models], num_client_samples))\n",
    "    pbar.set_postfix_str(f\"Loss: {np.average(losses, weights=num_client_samples):.3g}\")\n",
    "\n",
    "\n",
    "evaluate(Y_test, global_model.predict(X_test, verbose=0))"
   ]
  }
 ],
 "metadata": {
  "kernelspec": {
   "display_name": ".venv",
   "language": "python",
   "name": "python3"
  },
  "language_info": {
   "codemirror_mode": {
    "name": "ipython",
    "version": 3
   },
   "file_extension": ".py",
   "mimetype": "text/x-python",
   "name": "python",
   "nbconvert_exporter": "python",
   "pygments_lexer": "ipython3",
   "version": "3.11.5"
  },
  "orig_nbformat": 4
 },
 "nbformat": 4,
 "nbformat_minor": 2
}
