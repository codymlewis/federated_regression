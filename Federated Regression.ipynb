{
 "cells": [
  {
   "cell_type": "markdown",
   "metadata": {},
   "source": [
    "# The Exacerbation of Permutation Invariance and Overfitting in Federated Learning of Regression Tasks\n",
    "\n",
    "In this notebook, we demonstrate that when performing federated learning of regression tasks, the issues of permutation\n",
    "invariance and client-level overfitting are significantly more prominent. We observe that the fact that regression uses\n",
    "real outputs leads significant variance in client's optimal weights since there are infinitely many weighted sums that\n",
    "can lead to the correct output. In federated learning, clients hold non-i.i.d. datasets to eachother and may perform\n",
    "many steps of model updates before synchronising with the rest of the system, this results in client models that may\n",
    "individually fit well to a subset of the data but are so significantly different in weights to eachother that the aggregated\n",
    "model does not fit well to any of the data. We call this effect client-level overfitting.\n",
    "\n",
    "To start our demonstration we import the required external libraries, and establish constants."
   ]
  },
  {
   "cell_type": "code",
   "execution_count": 1,
   "metadata": {},
   "outputs": [],
   "source": [
    "from abc import ABC, abstractmethod\n",
    "from typing import NamedTuple, Tuple, List, Callable, Dict\n",
    "from collections import namedtuple\n",
    "from functools import partial\n",
    "from numpy.typing import NDArray, ArrayLike\n",
    "import numpy as np\n",
    "import jax\n",
    "import jax.numpy as jnp\n",
    "import flax.linen as nn\n",
    "import jaxopt\n",
    "import optax\n",
    "import math\n",
    "import functools\n",
    "import sklearn.datasets as skd\n",
    "import sklearn.metrics as skm\n",
    "from sklearn.model_selection import train_test_split\n",
    "import scipy.optimize as sp_opt\n",
    "from tqdm.auto import trange, tqdm\n",
    "import matplotlib.pyplot as plt\n",
    "\n",
    "\n",
    "seed = round(np.pi**12 + np.e * 21)\n",
    "batch_size = 200\n",
    "num_epochs = 25\n",
    "num_clients = 10\n",
    "num_rounds = num_epochs * num_clients\n",
    "\n",
    "\n",
    "# Function for evaluating the test performance of a model\n",
    "def evaluate(Y_test: NDArray, preds: ArrayLike) -> Dict[str, float]:\n",
    "    return {\"R2 score\": skm.r2_score(Y_test, preds), \"MAE\": skm.mean_absolute_error(Y_test, preds)}\n",
    "\n",
    "\n",
    "# Abstract class for the models\n",
    "class Model(ABC):\n",
    "    @abstractmethod\n",
    "    def set_weights(self, weights: List[NDArray]):\n",
    "        pass\n",
    "\n",
    "    @abstractmethod\n",
    "    def get_weights(self) -> List[NDArray]:\n",
    "        pass\n",
    "\n",
    "    @abstractmethod\n",
    "    def fit(self, X: NDArray, Y: NDArray, batch_size: int, epochs: int, verbose: int) -> float:\n",
    "        pass\n",
    "\n",
    "    @abstractmethod\n",
    "    def predict(self, X: NDArray, batch_size: int):\n",
    "        pass"
   ]
  },
  {
   "cell_type": "markdown",
   "metadata": {},
   "source": [
    "We will use the California housing dataset, which is a regression task where information about a house and its area is used to predict its\n",
    "price in units of hundreds of thousands of dollars. The dataset is automatically attained from https://www.dcc.fc.up.pt/~ltorgo/Regression/cal_housing.html.\n",
    "This dataset allows us to present the simplest format of this demonstration."
   ]
  },
  {
   "cell_type": "code",
   "execution_count": 2,
   "metadata": {},
   "outputs": [],
   "source": [
    "X, Y = skd.fetch_california_housing(return_X_y=True)\n",
    "\n",
    "X_train, X_test, Y_train, Y_test = train_test_split(X, Y, test_size=0.2, random_state=seed)"
   ]
  },
  {
   "cell_type": "markdown",
   "metadata": {},
   "source": [
    "# Centralised Machine Learning\n",
    "\n",
    "First, we will show that an equivalent centralised machine learning setting can effectively learn the task.\n",
    "\n",
    "For our model, we use a simple multilayer perceptron. We can see that it attains good performance when trained locally on the entire training dataset with the Adam optimiser."
   ]
  },
  {
   "cell_type": "code",
   "execution_count": 4,
   "metadata": {},
   "outputs": [
    {
     "data": {
      "text/plain": [
       "{'R2 score': 0.5714565637539362, 'MAE': 0.5350595829387667}"
      ]
     },
     "execution_count": 4,
     "metadata": {},
     "output_type": "execute_result"
    }
   ],
   "source": [
    "class Net(nn.Module):\n",
    "    @nn.compact\n",
    "    def __call__(self, x):\n",
    "        x = nn.Dense(100)(x)\n",
    "        x = nn.sigmoid(x)\n",
    "        x = nn.Dense(1)(x)\n",
    "        x = nn.relu(x)\n",
    "        return x\n",
    "\n",
    "\n",
    "def mean_absolute_error(model):\n",
    "    def _apply(variables, X, Y):\n",
    "        return jnp.mean(jnp.abs(Y - model.apply(variables, X).reshape(-1)))\n",
    "    return _apply\n",
    "\n",
    "\n",
    "# Caching is used since these objects are the functionally the same across clients,\n",
    "# so it saves jit compilations\n",
    "@functools.cache\n",
    "def get_adam_solver():\n",
    "    solver = jaxopt.OptaxSolver(mean_absolute_error(Net()), optax.adam(0.001))\n",
    "    return solver, jax.jit(solver.update)\n",
    "\n",
    "\n",
    "@functools.cache\n",
    "def get_sgd_solver():\n",
    "    solver = jaxopt.OptaxSolver(mean_absolute_error(Net()), optax.sgd(0.1))\n",
    "    return solver, jax.jit(solver.update)\n",
    "\n",
    "\n",
    "class NNModel(Model):\n",
    "    def __init__(self, input_shape, optimizer=\"adam\", seed=52):\n",
    "        self.model = Net()\n",
    "        self.parameters = self.model.init(jax.random.PRNGKey(seed), jnp.zeros((1,) + input_shape))\n",
    "        self.params_structure = jax.tree_util.tree_structure(self.parameters)\n",
    "        if optimizer == \"adam\":\n",
    "            solver, self.solver_step = get_adam_solver()\n",
    "        else:\n",
    "            solver, self.solver_step = get_sgd_solver()\n",
    "        self.state = solver.init_state(self.parameters, X=jnp.zeros((1,) + input_shape), Y=jnp.zeros((1,)))\n",
    "        self.rng = np.random.default_rng(seed)\n",
    "\n",
    "    def set_weights(self, weights):\n",
    "        self.parameters = jax.tree_util.tree_unflatten(self.params_structure, weights)\n",
    "    \n",
    "    def get_weights(self):\n",
    "        return jax.tree_util.tree_leaves(self.parameters)\n",
    "\n",
    "    def fit(self, X, Y, batch_size=200, epochs=1, verbose=0):\n",
    "        for e in range(epochs):\n",
    "            loss = 0.0\n",
    "            idxs = np.array_split(self.rng.permutation(len(Y)), math.ceil(len(Y) / batch_size))\n",
    "            if verbose:\n",
    "                idxs = tqdm(idxs)\n",
    "            for idx in idxs:\n",
    "                self.parameters, self.state = self.solver_step(self.parameters, self.state, X[idx], Y[idx])\n",
    "                loss += self.state.value\n",
    "                if verbose:\n",
    "                    idxs.set_postfix_str(f\"Loss: {self.state.value:.4g}\")\n",
    "        return loss.item() / math.ceil(len(Y) / batch_size)\n",
    "\n",
    "    def predict(self, X, batch_size=200):\n",
    "        idxs = np.array_split(np.arange(len(X)), math.ceil(len(X) / batch_size))\n",
    "        return np.concatenate([self.model.apply(self.parameters, X[idx]) for idx in idxs])\n",
    "\n",
    "\n",
    "model = NNModel(X_train[0].shape, seed=seed)\n",
    "model.fit(X_train, Y_train, batch_size=batch_size, epochs=num_epochs, verbose=0)\n",
    "evaluate(Y_test, model.predict(X_test))"
   ]
  },
  {
   "cell_type": "markdown",
   "metadata": {},
   "source": [
    "# Federated Learning\n",
    "\n",
    "Now, we create a similar setting, but within federated learning. There is one small difference in our setting, data is distributed in a non-i.i.d. manner\n",
    "across clients.\n",
    "\n",
    "With that said, we first define a structure to hold each client's data, and a function to distribute the data to each client. The distribution function\n",
    "is made non-i.i.d. by assigning each client and equidistant mean label and giving them all samples that have labels that are nearest to that mean."
   ]
  },
  {
   "cell_type": "code",
   "execution_count": 5,
   "metadata": {},
   "outputs": [],
   "source": [
    "class ClientData(NamedTuple):\n",
    "    X: NDArray\n",
    "    Y: NDArray\n",
    "\n",
    "\n",
    "def non_iid_client_data(X_train: NDArray, Y_train: NDArray) -> List[ClientData]:\n",
    "    hist, bins = np.histogram(Y_train, 9)\n",
    "    bin_idx = np.digitize(Y_train, bins) - 1\n",
    "    all_client_data = []\n",
    "    for c in range(num_clients):\n",
    "        idx = bin_idx == c\n",
    "        all_client_data.append(ClientData(X_train[idx].copy(), Y_train[idx].copy()))\n",
    "    return all_client_data\n",
    "\n",
    "\n",
    "def iid_client_data(X_train: NDArray, Y_train: NDArray, seed: int = 42) -> List[ClientData]:\n",
    "    rng = np.random.default_rng(seed)\n",
    "    data_per_client = len(Y_train) // num_clients\n",
    "    all_client_data = []\n",
    "    for c in range(num_clients):\n",
    "        cidx = rng.choice(len(Y_train), data_per_client, replace=False)\n",
    "        all_client_data.append(ClientData(X_train[cidx].copy(), Y_train[cidx].copy()))\n",
    "        X_train, Y_train = np.delete(X_train, cidx, axis=0), np.delete(Y_train, cidx, axis=0)\n",
    "    return all_client_data\n",
    "\n",
    "\n",
    "def mixed_iid_client_data(X_train: NDArray, Y_train: NDArray, proportion_iid: float = 0.5, seed: int = 42) -> List[ClientData]:\n",
    "    rng = np.random.default_rng(seed)\n",
    "    if proportion_iid == 1.0:\n",
    "        return iid_client_data(X_train, Y_train)\n",
    "    if proportion_iid == 0.0:\n",
    "        return non_iid_client_data(X_train, Y_train)\n",
    "    \n",
    "    iid_idx = rng.choice(len(Y_train), round(len(Y_train) * proportion_iid), replace=False)\n",
    "    all_iid_data = iid_client_data(X_train[iid_idx].copy(), Y_train[iid_idx].copy())\n",
    "    all_non_iid_data = non_iid_client_data(np.delete(X_train.copy(), iid_idx, axis=0), np.delete(Y_train.copy(), iid_idx, axis=0))\n",
    "    all_client_data = [\n",
    "        ClientData(np.concatenate((iidd.X, niidd.X)), np.concatenate((iidd.Y, niidd.Y)))\n",
    "        for iidd, niidd in zip(all_iid_data, all_non_iid_data)\n",
    "    ]\n",
    "    return all_client_data"
   ]
  },
  {
   "cell_type": "markdown",
   "metadata": {},
   "source": [
    "We next define our federated optimisers: federated averaging and FedAdam."
   ]
  },
  {
   "cell_type": "code",
   "execution_count": 6,
   "metadata": {},
   "outputs": [],
   "source": [
    "def fedavg(\n",
    "    client_parameters: List[List[NDArray]],\n",
    "    client_samples: List[int],\n",
    "    *_args\n",
    ") -> List[NDArray]:\n",
    "    agg_parameters = []\n",
    "    num_layers = len(client_parameters[0])\n",
    "    for i in range(num_layers):\n",
    "        agg_parameters.append(\n",
    "            np.average([cp[i] for cp in client_parameters], weights=client_samples, axis=0)\n",
    "        )\n",
    "    return agg_parameters\n",
    "\n",
    "\n",
    "class FedAdam:\n",
    "    def __init__(\n",
    "        self,\n",
    "        learning_rate: float = 0.01,\n",
    "        beta_1: float = 0.9,\n",
    "        beta_2: float = 0.999,\n",
    "        epsilon: float = 1e-07\n",
    "    ):\n",
    "        self.mu = None\n",
    "        self.nu = None\n",
    "        self.learning_rate = learning_rate\n",
    "        self.beta_1 = beta_1\n",
    "        self.beta_2 = beta_2\n",
    "        self.epsilon = epsilon\n",
    "\n",
    "    def __call__(\n",
    "        self,\n",
    "        client_parameters: List[List[NDArray]],\n",
    "        client_samples: List[int],\n",
    "        global_parameters: List[NDArray]\n",
    "    ) -> List[NDArray]:\n",
    "        if self.mu is None:\n",
    "            self.mu = [np.zeros_like(p) for p in global_parameters]\n",
    "            self.nu = [np.zeros_like(p) for p in global_parameters]\n",
    "\n",
    "        client_grads = [\n",
    "            [cp - gp for cp, gp in zip(cparams, global_parameters)] for cparams in client_parameters\n",
    "        ]\n",
    "        agg_grads = fedavg(client_grads, client_samples)\n",
    "        for i in range(len(global_parameters)):\n",
    "            self.mu[i] = self.beta_1 * self.mu[i] + (1 - self.beta_1) * agg_grads[i]\n",
    "            self.nu[i] = self.beta_2 * self.nu[i] + (1 - self.beta_2) * agg_grads[i]**2\n",
    "            mu_hat = self.mu[i] / (1 - self.beta_1)\n",
    "            nu_hat = self.nu[i] / (1 - self.beta_2)\n",
    "            layer_update = mu_hat / (np.sqrt(nu_hat) + self.epsilon)\n",
    "            global_parameters[i] += self.learning_rate * layer_update\n",
    "        return global_parameters"
   ]
  },
  {
   "cell_type": "markdown",
   "metadata": {},
   "source": [
    "And finally, we define a function to perform our federated learning experiment by creating the clients, having them train for each round, aggregate the client models\n",
    "using the specified optimizer at the end of each round. When learning is completed, we print the $R^2$ score and mean absolute error of the learnt global model evaluated\n",
    "on the testing dataset."
   ]
  },
  {
   "cell_type": "code",
   "execution_count": 7,
   "metadata": {},
   "outputs": [],
   "source": [
    "def federated_learning(\n",
    "    create_model_fun: Callable[[Tuple[int]], Model],\n",
    "    optimiser: Callable[[List[List[NDArray]], List[int], List[NDArray]], List[NDArray]],\n",
    "    all_client_data: List[ClientData],\n",
    "    seed: int = 32,\n",
    "    verbose: int = 1,\n",
    ") -> Dict[str, float]:\n",
    "    global_model = create_model_fun(X_train[0].shape, seed=seed)\n",
    "    client_models = [create_model_fun(X_train[0].shape) for _ in range(num_clients)]\n",
    "    num_client_samples = [len(cd.Y) for cd in all_client_data]\n",
    "\n",
    "    pbar = trange(num_rounds) if verbose else range(num_rounds)\n",
    "    for r in pbar:\n",
    "        losses = []\n",
    "        for client_model, client_data in zip(client_models, all_client_data):\n",
    "            client_model.set_weights(global_model.get_weights())\n",
    "            loss = client_model.fit(client_data.X, client_data.Y, batch_size=batch_size, verbose=0)\n",
    "            losses.append(loss)\n",
    "        global_model.set_weights(\n",
    "            optimiser([cm.get_weights() for cm in client_models], num_client_samples, global_model.get_weights())\n",
    "        )\n",
    "        if verbose:\n",
    "            pbar.set_postfix_str(f\"Loss: {np.average(losses, weights=num_client_samples):.3f}\")\n",
    "\n",
    "    return evaluate(Y_test, global_model.predict(X_test))"
   ]
  },
  {
   "cell_type": "markdown",
   "metadata": {},
   "source": [
    "We are now set up for the experiments, first we demonstrate with the same model as the centralised training and federated averaging as\n",
    "the federated optimiser."
   ]
  },
  {
   "cell_type": "code",
   "execution_count": 8,
   "metadata": {},
   "outputs": [
    {
     "data": {
      "application/vnd.jupyter.widget-view+json": {
       "model_id": "2d8b98dda5fa49249da527e582f95246",
       "version_major": 2,
       "version_minor": 0
      },
      "text/plain": [
       "  0%|          | 0/250 [00:00<?, ?it/s]"
      ]
     },
     "metadata": {},
     "output_type": "display_data"
    },
    {
     "data": {
      "text/plain": [
       "{'R2 score': -0.13242026716911925, 'MAE': 0.9024728015329302}"
      ]
     },
     "execution_count": 8,
     "metadata": {},
     "output_type": "execute_result"
    }
   ],
   "source": [
    "federated_learning(NNModel, fedavg, non_iid_client_data(X_train, Y_train))"
   ]
  },
  {
   "cell_type": "markdown",
   "metadata": {},
   "source": [
    "We see that this form of training is completely ineffective, so we try a different federated optimiser, FedAdam."
   ]
  },
  {
   "cell_type": "code",
   "execution_count": 9,
   "metadata": {},
   "outputs": [
    {
     "data": {
      "application/vnd.jupyter.widget-view+json": {
       "model_id": "49ddafca97804ea584dc561fa4b3df76",
       "version_major": 2,
       "version_minor": 0
      },
      "text/plain": [
       "  0%|          | 0/250 [00:00<?, ?it/s]"
      ]
     },
     "metadata": {},
     "output_type": "display_data"
    },
    {
     "data": {
      "text/plain": [
       "{'R2 score': -0.0997041685079536, 'MAE': 0.8776277797661824}"
      ]
     },
     "execution_count": 9,
     "metadata": {},
     "output_type": "execute_result"
    }
   ],
   "source": [
    "federated_learning(NNModel, FedAdam(), non_iid_client_data(X_train, Y_train))"
   ]
  },
  {
   "cell_type": "markdown",
   "metadata": {},
   "source": [
    "It remains arguable that this effect could simple be a side effect of the client-side Adam optimiser being used in training, and the updates\n",
    "it produces which have differing denominators causing incorrect aggregation. However, with the following we construct a closer replication of\n",
    "the centralised setting by applying the SGD optimiser at the client-side and FedAdam at the server. Still, we see that client-level\n",
    "overfitting has a significant negative impact on the resulting global model performance."
   ]
  },
  {
   "cell_type": "code",
   "execution_count": 10,
   "metadata": {},
   "outputs": [
    {
     "data": {
      "application/vnd.jupyter.widget-view+json": {
       "model_id": "123de5ba27874ae28db7d5a532318626",
       "version_major": 2,
       "version_minor": 0
      },
      "text/plain": [
       "  0%|          | 0/250 [00:00<?, ?it/s]"
      ]
     },
     "metadata": {},
     "output_type": "display_data"
    },
    {
     "data": {
      "text/plain": [
       "{'R2 score': -0.054714319262588296, 'MAE': 0.8933072098716099}"
      ]
     },
     "execution_count": 10,
     "metadata": {},
     "output_type": "execute_result"
    }
   ],
   "source": [
    "federated_learning(functools.partial(NNModel, optimizer=\"sgd\"), FedAdam(), non_iid_client_data(X_train, Y_train))"
   ]
  },
  {
   "cell_type": "markdown",
   "metadata": {},
   "source": [
    "### With i.i.d. Data\n",
    "\n",
    "With the following we show that this effect is not present when the data is i.i.d. with respect to the clients."
   ]
  },
  {
   "cell_type": "code",
   "execution_count": 19,
   "metadata": {},
   "outputs": [
    {
     "data": {
      "application/vnd.jupyter.widget-view+json": {
       "model_id": "af2eabaab2b24ac7b6ab62bf667b1cd8",
       "version_major": 2,
       "version_minor": 0
      },
      "text/plain": [
       "  0%|          | 0/250 [00:00<?, ?it/s]"
      ]
     },
     "metadata": {},
     "output_type": "display_data"
    },
    {
     "data": {
      "text/plain": [
       "{'R2 score': 0.6368760816153459, 'MAE': 0.4922829451032722}"
      ]
     },
     "execution_count": 19,
     "metadata": {},
     "output_type": "execute_result"
    }
   ],
   "source": [
    "federated_learning(NNModel, fedavg, iid_client_data(X_train, Y_train))"
   ]
  },
  {
   "cell_type": "markdown",
   "metadata": {},
   "source": [
    "But, model performance is still significantly impacted with there is a mixture of non-i.i.d. (majority) and i.i.d. data across clients."
   ]
  },
  {
   "cell_type": "code",
   "execution_count": 12,
   "metadata": {},
   "outputs": [
    {
     "data": {
      "application/vnd.jupyter.widget-view+json": {
       "model_id": "6605d85fac0a4e9f8f90fead193a6969",
       "version_major": 2,
       "version_minor": 0
      },
      "text/plain": [
       "  0%|          | 0/250 [00:00<?, ?it/s]"
      ]
     },
     "metadata": {},
     "output_type": "display_data"
    },
    {
     "data": {
      "text/plain": [
       "{'R2 score': 0.05622513748049218, 'MAE': 0.8472273997406442}"
      ]
     },
     "execution_count": 12,
     "metadata": {},
     "output_type": "execute_result"
    }
   ],
   "source": [
    "federated_learning(NNModel, fedavg, mixed_iid_client_data(X_train, Y_train, 0.4))"
   ]
  },
  {
   "cell_type": "markdown",
   "metadata": {},
   "source": [
    "# Ridge Regression\n",
    "\n",
    "In this section we evaluate the same experiments with the ridge regression model."
   ]
  },
  {
   "cell_type": "code",
   "execution_count": 13,
   "metadata": {},
   "outputs": [],
   "source": [
    "class RidgeModel(Model):\n",
    "    def __init__(self, input_shape, alpha=1.0, **_kwargs):\n",
    "        self.alpha = alpha\n",
    "        self.parameters = np.zeros(input_shape)\n",
    "\n",
    "    def set_weights(self, weights):\n",
    "        self.parameters = weights[0]\n",
    "    \n",
    "    def get_weights(self):\n",
    "        return [self.parameters]\n",
    "\n",
    "    def fit(self, X, Y, epochs=4, **_kwargs):\n",
    "        # The default number of epochs makes up for the fact that there are no longer minibatches\n",
    "        info = sp_opt.minimize(\n",
    "            partial(RidgeModel.func, X, Y, self.alpha),\n",
    "            x0=self.parameters,\n",
    "            method=\"L-BFGS-B\",\n",
    "            tol=1e-6,\n",
    "            bounds=[(0, np.inf)] * X.shape[1],\n",
    "            jac=True,\n",
    "            options={\"maxiter\": epochs}\n",
    "        )\n",
    "        self.parameters = info['x']\n",
    "        return info['fun'] / X.shape[1]\n",
    "\n",
    "    def predict(self, X, **_kwargs):\n",
    "        return X.dot(self.parameters)\n",
    "\n",
    "    def func(X, Y, alpha, w):\n",
    "        residual = X.dot(w) - Y\n",
    "        f = 0.5 * residual.dot(residual) + 0.5 * alpha * w.dot(w)\n",
    "        grad = X.T @ residual + alpha * w\n",
    "        return f, grad"
   ]
  },
  {
   "cell_type": "markdown",
   "metadata": {},
   "source": [
    "In the centralised setting, we see that the model achieves good performance, although not as good as the neural network."
   ]
  },
  {
   "cell_type": "code",
   "execution_count": 14,
   "metadata": {},
   "outputs": [
    {
     "data": {
      "text/plain": [
       "{'R2 score': 0.49712158613770574, 'MAE': 0.6222782830202925}"
      ]
     },
     "execution_count": 14,
     "metadata": {},
     "output_type": "execute_result"
    }
   ],
   "source": [
    "model = RidgeModel(X_train[0].shape)\n",
    "model.fit(X_train, Y_train, epochs=num_epochs)\n",
    "evaluate(Y_test, model.predict(X_test))"
   ]
  },
  {
   "cell_type": "markdown",
   "metadata": {},
   "source": [
    "Federated learning with i.i.d. client data converges as expected."
   ]
  },
  {
   "cell_type": "code",
   "execution_count": 15,
   "metadata": {},
   "outputs": [
    {
     "data": {
      "application/vnd.jupyter.widget-view+json": {
       "model_id": "45650aebc8bf4bdab52c6aad6da39f1f",
       "version_major": 2,
       "version_minor": 0
      },
      "text/plain": [
       "  0%|          | 0/250 [00:00<?, ?it/s]"
      ]
     },
     "metadata": {},
     "output_type": "display_data"
    },
    {
     "data": {
      "text/plain": [
       "{'R2 score': 0.49680218738825166, 'MAE': 0.6239951431886539}"
      ]
     },
     "execution_count": 15,
     "metadata": {},
     "output_type": "execute_result"
    }
   ],
   "source": [
    "federated_learning(RidgeModel, fedavg, iid_client_data(X_train, Y_train))"
   ]
  },
  {
   "cell_type": "markdown",
   "metadata": {},
   "source": [
    "While non-i.i.d. client data prevents convergence."
   ]
  },
  {
   "cell_type": "code",
   "execution_count": 16,
   "metadata": {},
   "outputs": [
    {
     "data": {
      "application/vnd.jupyter.widget-view+json": {
       "model_id": "251d3779e115401cbfb7de457678476c",
       "version_major": 2,
       "version_minor": 0
      },
      "text/plain": [
       "  0%|          | 0/250 [00:00<?, ?it/s]"
      ]
     },
     "metadata": {},
     "output_type": "display_data"
    },
    {
     "data": {
      "text/plain": [
       "{'R2 score': -0.08329586788357024, 'MAE': 0.9461897999595704}"
      ]
     },
     "execution_count": 16,
     "metadata": {},
     "output_type": "execute_result"
    }
   ],
   "source": [
    "federated_learning(RidgeModel, fedavg, non_iid_client_data(X_train, Y_train))"
   ]
  },
  {
   "cell_type": "markdown",
   "metadata": {},
   "source": [
    "An the same when FedAdam is used."
   ]
  },
  {
   "cell_type": "code",
   "execution_count": 17,
   "metadata": {},
   "outputs": [
    {
     "data": {
      "application/vnd.jupyter.widget-view+json": {
       "model_id": "80f73591ce8b46f68005d3ed0d6a720d",
       "version_major": 2,
       "version_minor": 0
      },
      "text/plain": [
       "  0%|          | 0/250 [00:00<?, ?it/s]"
      ]
     },
     "metadata": {},
     "output_type": "display_data"
    },
    {
     "data": {
      "text/plain": [
       "{'R2 score': -0.3523827396911543, 'MAE': 1.0599914054378345}"
      ]
     },
     "execution_count": 17,
     "metadata": {},
     "output_type": "execute_result"
    }
   ],
   "source": [
    "federated_learning(RidgeModel, FedAdam(), non_iid_client_data(X_train, Y_train))"
   ]
  },
  {
   "cell_type": "markdown",
   "metadata": {},
   "source": [
    "Although, we see better results with partially i.i.d. data."
   ]
  },
  {
   "cell_type": "code",
   "execution_count": 18,
   "metadata": {},
   "outputs": [
    {
     "data": {
      "application/vnd.jupyter.widget-view+json": {
       "model_id": "5159b79441d6419fb93595c98938fee4",
       "version_major": 2,
       "version_minor": 0
      },
      "text/plain": [
       "  0%|          | 0/250 [00:00<?, ?it/s]"
      ]
     },
     "metadata": {},
     "output_type": "display_data"
    },
    {
     "data": {
      "text/plain": [
       "{'R2 score': 0.17453841346802523, 'MAE': 0.8254006346432428}"
      ]
     },
     "execution_count": 18,
     "metadata": {},
     "output_type": "execute_result"
    }
   ],
   "source": [
    "federated_learning(RidgeModel, fedavg, mixed_iid_client_data(X_train, Y_train, 0.4))"
   ]
  },
  {
   "cell_type": "markdown",
   "metadata": {},
   "source": [
    "# Varying the level of i.i.d.\n",
    "\n",
    "In this section, we evaluate the pefromance of the two models across varying proportions of non-i.i.d. data across clients."
   ]
  },
  {
   "cell_type": "code",
   "execution_count": 20,
   "metadata": {},
   "outputs": [],
   "source": [
    "def iid_level_experiment(create_model_fun, repeats=10):\n",
    "    experiment_results = []\n",
    "    for r in trange(repeats):\n",
    "        performance = []\n",
    "        seed = round(np.pi**12 + np.e*21 + r)\n",
    "        for piid in np.linspace(0.0, 1.0, 11):\n",
    "            results = federated_learning(create_model_fun, fedavg, mixed_iid_client_data(X_train, Y_train, piid, seed=seed), seed=seed, verbose=0)\n",
    "            performance.append(results['R2 score'])\n",
    "        tqdm.write(f\"repetition {r}: {performance=}\")\n",
    "        experiment_results.append(performance)\n",
    "    return experiment_results"
   ]
  },
  {
   "cell_type": "markdown",
   "metadata": {},
   "source": [
    "First, we evaluate the Ridge Regression model, an find a consistiant increase in performance as the proportion of i.i.d. client data increases."
   ]
  },
  {
   "cell_type": "code",
   "execution_count": 21,
   "metadata": {},
   "outputs": [
    {
     "data": {
      "application/vnd.jupyter.widget-view+json": {
       "model_id": "f43ec9f663564bcb8f56c1776e064a3f",
       "version_major": 2,
       "version_minor": 0
      },
      "text/plain": [
       "  0%|          | 0/30 [00:00<?, ?it/s]"
      ]
     },
     "metadata": {},
     "output_type": "display_data"
    },
    {
     "name": "stdout",
     "output_type": "stream",
     "text": [
      "repetition 0: performance=[-0.08329586788357024, 0.11604454445364898, 0.11024143931488306, 0.3665041588910187, 0.3076141632653766, 0.2678214330192744, 0.25709694747603884, 0.3025861021878884, 0.3105866495584997, 0.48992806434597747, 0.49680218738825166]\n",
      "repetition 1: performance=[-0.08329586788357024, 0.11846433579798954, 0.17685273612079244, 0.2373260502765817, 0.36579391124365235, 0.25893931597801034, 0.30687508167880717, 0.47276926394993934, 0.4128013902784702, 0.40938843952061443, 0.49680218738825166]\n",
      "repetition 2: performance=[-0.08329586788357024, 0.10482438312072495, 0.16660515980886315, 0.23012160991925001, 0.31797048828033014, 0.32343555450919015, 0.2955514811339379, 0.31771564750371994, 0.4040076519147381, 0.3904790358285595, 0.49680218738825166]\n",
      "repetition 3: performance=[-0.08329586788357024, 0.08489502806296856, 0.15713365762421316, 0.22057245217387667, 0.34330731826454586, 0.255969238664999, 0.28480663819513463, 0.321795684676245, 0.3488980830068181, 0.39217739393859163, 0.49680218738825166]\n",
      "repetition 4: performance=[-0.08329586788357024, 0.05576073185140584, 0.16840924779579192, 0.20133616799655862, 0.2674100218341344, 0.3873671115639047, 0.29865920848893135, 0.32032796075998105, 0.39757478379150635, 0.3154108474589492, 0.49680218738825166]\n",
      "repetition 5: performance=[-0.08329586788357024, 0.03554472734178882, 0.14856708485586723, 0.24356044953989486, 0.30499512768208625, 0.25821904115897953, 0.37607197277111126, 0.3827518936656287, 0.35325078677302746, 0.45425781521598274, 0.49680218738825166]\n",
      "repetition 6: performance=[-0.08329586788357024, 0.09046196186985, 0.19640841255767605, 0.23423776614851377, 0.1976241229982839, 0.15239867752813907, 0.28427696724650253, 0.4203336389626766, 0.4257249843539035, 0.46927848828436014, 0.49680218738825166]\n",
      "repetition 7: performance=[-0.08329586788357024, 0.11976559540734144, 0.18527927643693853, 0.21626628070812082, 0.27073441996448533, 0.27911112539077654, 0.32135949738068725, 0.36158376146165416, 0.5030471244687826, 0.4752535500040316, 0.49680218738825166]\n",
      "repetition 8: performance=[-0.08329586788357024, 0.07516842297654902, 0.1214728825991227, 0.21058612840079316, 0.2832084409815301, 0.3557464496516196, 0.33655886893619336, 0.4139503804922192, 0.34320470565864336, 0.4045851991173418, 0.49680218738825166]\n",
      "repetition 9: performance=[-0.08329586788357024, 0.0384392466290614, 0.18765932276617225, 0.18881358217183064, 0.2437341778541937, 0.26382354230886995, 0.2882598509317996, 0.2739272574780166, 0.3175389971125915, 0.409103835445607, 0.49680218738825166]\n",
      "repetition 10: performance=[-0.08329586788357024, 0.04826142689947244, 0.16018606426628101, 0.17299101316446308, 0.3450407239433406, 0.26498214844516865, 0.27872891615637196, 0.3185270063240083, 0.29133755695819974, 0.45481582997087266, 0.49680218738825166]\n",
      "repetition 11: performance=[-0.08329586788357024, 0.07829820854967995, 0.17072809411503165, 0.2114550879979875, 0.25276125023103724, 0.2985721549340322, 0.3666458241898327, 0.35060066842535575, 0.4133267905227649, 0.4437150025190739, 0.49680218738825166]\n",
      "repetition 12: performance=[-0.08329586788357024, 0.04007847603117509, 0.13325851742760153, 0.20327296262016803, 0.34917429380543585, 0.22078388636184465, 0.42325788241220463, 0.29565639349734474, 0.3146378255458069, 0.4637119484140938, 0.49680218738825166]\n",
      "repetition 13: performance=[-0.08329586788357024, 0.06681640806333655, 0.159511257405193, 0.21790193388448353, 0.26618699942293855, 0.2985364668680288, 0.3715034950913876, 0.37524799410883136, 0.3452443409567316, 0.45771586642024276, 0.49680218738825166]\n",
      "repetition 14: performance=[-0.08329586788357024, 0.019419656650357275, 0.30654031056200337, 0.2826438274426587, 0.2592901411972164, 0.3211180072352092, 0.31019693953143235, 0.34523247387395783, 0.3858538962663014, 0.3722095170950712, 0.49680218738825166]\n",
      "repetition 15: performance=[-0.08329586788357024, 0.09587691091534356, 0.16700400203022048, 0.22649273245871093, 0.14697503755059793, 0.241853574989637, 0.3940328025961417, 0.391600798695257, 0.4538763293425143, 0.34576126158946063, 0.49680218738825166]\n",
      "repetition 16: performance=[-0.08329586788357024, 0.08804228488639476, 0.10729295718206788, 0.17609767873881832, 0.27501822685252164, 0.3387770417288142, 0.3326579318841709, 0.3019632647383951, 0.3457428921790977, 0.4608520038477758, 0.49680218738825166]\n",
      "repetition 17: performance=[-0.08329586788357024, 0.10336366337509262, 0.16523234488854033, 0.18314631725396446, 0.2380692026254383, 0.33572865781365135, 0.32337980985545334, 0.33007559711135226, 0.4111975191427861, 0.4920991554333143, 0.49680218738825166]\n",
      "repetition 18: performance=[-0.08329586788357024, 0.05898245506994637, 0.1428617354535775, 0.17054208768907597, 0.2260095867371732, 0.2553739417954084, 0.29639727266662375, 0.41807032561751845, 0.2987860327384152, 0.35048632264467805, 0.49680218738825166]\n",
      "repetition 19: performance=[-0.08329586788357024, 0.07647765834509945, 0.16154552217762197, 0.2825536558137154, 0.2554179225704306, 0.2881194851466663, 0.42536684058635443, 0.31240921111955167, 0.3758181619779011, 0.3976529653149088, 0.49680218738825166]\n",
      "repetition 20: performance=[-0.08329586788357024, 0.04646146310251875, 0.15833365348607253, 0.27009559370613057, 0.24663475203706564, 0.286726648664666, 0.3207544077531398, 0.29633986242850796, 0.38180528779003253, 0.3802581396352728, 0.49680218738825166]\n",
      "repetition 21: performance=[-0.08329586788357024, 0.10167728512424168, 0.12017376019944348, 0.27464115767954156, 0.27752330833822736, 0.4137337563253328, 0.3629185459329576, 0.3032702879224921, 0.4270874437615556, 0.4926294351156246, 0.49680218738825166]\n",
      "repetition 22: performance=[-0.08329586788357024, 0.06056490106330037, 0.17281254419695147, 0.19590440102998807, 0.1909526301925517, 0.22456190698527878, 0.32269910648296796, 0.3231690662305654, 0.3512018619634898, 0.4641817234864053, 0.49680218738825166]\n",
      "repetition 23: performance=[-0.08329586788357024, 0.09897749826621893, 0.18316822512260922, 0.27526394448956726, 0.2354331525851776, 0.37736449840621233, 0.2960802457717733, 0.3053059419035802, 0.5043442665691307, 0.47526747137689784, 0.49680218738825166]\n",
      "repetition 24: performance=[-0.08329586788357024, 0.05601954689761035, 0.16342515869308316, 0.16699683028195456, 0.3257643839625539, 0.4253615948006956, 0.37404186258818406, 0.2924700774028156, 0.39996890811344676, 0.35764343767735063, 0.49680218738825166]\n",
      "repetition 25: performance=[-0.08329586788357024, 0.10637624712197347, 0.1837761736769118, 0.25319591492932914, 0.26212263761794485, 0.2780591261063581, 0.29294148373540096, 0.30996260656802543, 0.32701755374965313, 0.35681880625525575, 0.49680218738825166]\n",
      "repetition 26: performance=[-0.08329586788357024, 0.1325902675113021, 0.127499533595817, 0.20468212040444156, 0.22108875506200254, 0.31833186390941526, 0.38525157877381555, 0.34101782895231003, 0.37332870247145655, 0.408730933624435, 0.49680218738825166]\n",
      "repetition 27: performance=[-0.08329586788357024, 0.12344495400549982, 0.16420964086548084, 0.2290043563536721, 0.23481584296384528, 0.3285563359423348, 0.3349034637295374, 0.35052688326565073, 0.3650054715131502, 0.393740388481298, 0.49680218738825166]\n",
      "repetition 28: performance=[-0.08329586788357024, 0.14680251733461736, 0.16667848176840905, 0.11946963928463161, 0.3280231994091942, 0.3298815493315861, 0.39565044962086615, 0.27393256125880094, 0.3076672671441285, 0.33485652207683814, 0.49680218738825166]\n",
      "repetition 29: performance=[-0.08329586788357024, 0.08453299225706112, 0.1752388664199872, 0.22103895658517336, 0.21367189175724222, 0.32512925167686213, 0.3764992761931185, 0.3642053488829049, 0.40132622223227066, 0.4055831472861967, 0.49680218738825166]\n"
     ]
    }
   ],
   "source": [
    "ridge_results = iid_level_experiment(RidgeModel, repeats=30)"
   ]
  },
  {
   "cell_type": "code",
   "execution_count": 22,
   "metadata": {},
   "outputs": [
    {
     "data": {
      "application/vnd.jupyter.widget-view+json": {
       "model_id": "c7fb631ce6744617a7be99273f16afb5",
       "version_major": 2,
       "version_minor": 0
      },
      "text/plain": [
       "  0%|          | 0/30 [00:00<?, ?it/s]"
      ]
     },
     "metadata": {},
     "output_type": "display_data"
    },
    {
     "name": "stdout",
     "output_type": "stream",
     "text": [
      "repetition 0: performance=[-0.14395105312870715, -0.131448171558588, -0.11658720147539237, -0.05488152067149832, 0.0009064534017789727, 0.08091004672965008, 0.5102334699842193, 0.5716412146747387, 0.5940775447179577, 0.618707800973933, 0.6153881960657541]\n",
      "repetition 1: performance=[-3.1943024967426563, -3.1943024967426563, -3.1943024967426563, -3.1943024967426563, -3.1943024967426563, -3.1943024967426563, -3.1943024967426563, -3.1943024967426563, -3.1943024967426563, -3.1943024967426563, -3.1943024967426563]\n",
      "repetition 2: performance=[-0.1445474479426756, -0.12751108562572622, -0.09959319877658412, -0.06828744891974292, -0.05766944632120086, 0.09853166616884557, 0.12777989998075312, 0.39310354187663155, 0.4801717148044262, 0.5349204406601084, 0.5353492551720019]\n",
      "repetition 3: performance=[-0.12828674474748514, -0.1287520094762178, -0.11265405512090454, -0.027603403490538803, 0.1392108607438154, 0.2402533910337873, 0.5170773489953424, 0.568346460957061, 0.6026341910061142, 0.6261869827663259, 0.5987792319418122]\n",
      "repetition 4: performance=[-0.14778699010790786, -0.12000511930409519, -0.083833568888392, -0.049293090842843945, 0.041764543094486184, 0.21125349896430612, 0.4578420409141002, 0.5715542727494383, 0.5976904122408282, 0.6324153781045636, 0.6037643579106873]\n",
      "repetition 5: performance=[-0.13846892330916316, -0.11845554257870927, -0.09836670687465054, -0.06538588532369416, -0.018494979725992344, 0.3500795547330682, 0.47064063336665896, 0.5845955337572046, 0.5822970398033895, 0.6206628299138658, 0.5884809672708519]\n",
      "repetition 6: performance=[-0.12136359278608655, -0.13370657838228417, -0.08854903767986544, -0.04131008505462708, 0.004263669873150744, 0.10512202565796858, 0.32137864870617083, 0.5203186844848564, 0.47908173106135377, 0.546211828640478, 0.5396984920973902]\n",
      "repetition 7: performance=[-3.1943024967426563, -3.1943024967426563, -3.1943024967426563, -3.1943024967426563, -3.1943024967426563, -3.1943024967426563, -3.1943024967426563, -3.1943024967426563, -3.1943024967426563, -3.1943024967426563, -3.1943024967426563]\n",
      "repetition 8: performance=[-3.1943024967426563, -3.1943024967426563, -3.1943024967426563, -3.1943024967426563, -3.1943024967426563, -3.1943024967426563, -3.1943024967426563, -3.1943024967426563, -3.1943024967426563, -3.1943024967426563, -3.1943024967426563]\n",
      "repetition 9: performance=[-0.1402043369054371, -0.11484275489885087, -0.02391299397542923, -0.05812787857008339, 0.022779821031191694, 0.24100025563781335, 0.43429626459179527, 0.5718089408331947, 0.5626418657986525, 0.5948583468868888, 0.5827087124540571]\n",
      "repetition 10: performance=[-0.10327752372144561, -0.11402941352035323, -0.11693082789355413, -0.04886888039195125, -0.030445633990589194, 0.17661448674552405, 0.5184679772523395, 0.5754393396562809, 0.5681946811681855, 0.6193644186569888, 0.5886590768428517]\n",
      "repetition 11: performance=[-0.1351728571572841, -0.09785505488384172, -0.07465516050963061, -0.08054357101565968, -0.02379422273952625, 0.22676311645628477, 0.4577338270114044, 0.569161305650344, 0.5983742045798746, 0.6283865129890147, 0.616832034212544]\n",
      "repetition 12: performance=[-0.13030694450458014, -0.12152699246375298, -0.09011298497522024, -0.07334174927055637, -0.03054952603942329, 0.0416592201938899, 0.2201598268301025, 0.5643445032684234, 0.5645133653422575, 0.6190279266780984, 0.6121187995332744]\n",
      "repetition 13: performance=[-0.12837262192484866, -0.11520068380082837, -0.09664700610509036, -0.05862163543351695, 0.07445994291327918, 0.22712211371278068, 0.4717263024906251, 0.5366285779932121, 0.576382701926064, 0.6136309447775815, 0.6124893458718721]\n",
      "repetition 14: performance=[-3.1943024967426563, -3.1943024967426563, -3.1943024967426563, -3.1943024967426563, -3.1943024967426563, -3.1943024967426563, -3.1943024967426563, -3.1943024967426563, -3.1943024967426563, -3.1943024967426563, -3.1943024967426563]\n",
      "repetition 15: performance=[-0.1478060008961577, -0.14418202869060215, -0.08186341052447932, 0.003768305012119666, 0.18703025590342903, 0.27215720214810823, 0.5344178157893957, 0.5759770181105152, 0.5817426787308444, 0.5700319242549678, 0.6084362820315676]\n",
      "repetition 16: performance=[-3.1943024967426563, -3.1943024967426563, -3.1943024967426563, -3.1943024967426563, -3.1943024967426563, -3.1943024967426563, -3.1943024967426563, -3.1943024967426563, -3.1943024967426563, -3.1943024967426563, -3.1943024967426563]\n",
      "repetition 17: performance=[-0.13081448757914682, -0.11321713407281742, -0.09815510549894912, -0.06674757748857973, 0.01355958676751745, 0.18564824868486973, 0.5205968004159627, 0.5648269040226184, 0.5725197662308295, 0.6055432944172868, 0.6107610467377536]\n",
      "repetition 18: performance=[-0.13060450133291646, -0.10523483190895067, -0.09810259313762071, -0.05452956731583969, -0.012076544484324492, -0.019968169850648643, 0.3751515529075111, 0.5174951015319214, 0.5452048407221797, 0.5826182842073739, 0.5606105579774445]\n",
      "repetition 19: performance=[-0.12831249125068722, -0.1132244344135438, -0.09027619233261563, -0.058795596597694955, 0.11297222715693411, 0.41466683819784067, 0.5097528346894449, 0.5919013024225538, 0.5765849040385935, 0.6265402536872882, 0.6244917787812625]\n",
      "repetition 20: performance=[-0.1419773711005745, -0.10420713796478664, -0.08070297052002062, 0.006838554451687906, 0.10978370638690205, 0.33341989001264094, 0.55358927505133, 0.584516524230023, 0.6181063139568357, 0.6293409881288055, 0.6165893967037511]\n",
      "repetition 21: performance=[-0.10866250967831559, -0.10617442676062061, -0.061006426354379695, -0.019861762972737118, 0.03789730215425513, 0.19876420497311487, 0.42323769857740856, 0.5283860185767356, 0.5222390226372948, 0.6141192770508677, 0.6003598342294092]\n",
      "repetition 22: performance=[-0.11416753232657983, -0.13590015130349697, -0.10955281548781715, -0.0653795572887681, -0.042288530275160996, 0.31632854059014426, 0.5218286028957374, 0.5745018703115117, 0.5831279354939427, 0.6071285063264269, 0.6151435970116989]\n",
      "repetition 23: performance=[-3.1943024967426563, -3.1943024967426563, -3.1943024967426563, -3.1943024967426563, -3.1943024967426563, -3.1943024967426563, -3.1943024967426563, -3.1943024967426563, -3.1943024967426563, -3.1943024967426563, -3.1943024967426563]\n",
      "repetition 24: performance=[-0.13684840149322297, -0.08893336984358302, -0.02048146270288531, 0.04578658474777375, 0.24187567215377204, 0.23555103795646148, 0.35140080243572824, 0.5660209859051843, 0.5363917020290685, 0.6015573521897954, 0.6025891904969348]\n",
      "repetition 25: performance=[-0.125724225194495, -0.10761971672319848, -0.04901684475162127, 0.04870546438580925, 0.21334832294495498, 0.4303758985376873, 0.4825313122008632, 0.5496168167197194, 0.550142050070304, 0.6134641197292435, 0.6137632644092892]\n",
      "repetition 26: performance=[-3.1943024967426563, -3.1943024967426563, -3.1943024967426563, -3.1943024967426563, -3.1943024967426563, -3.1943024967426563, -3.1943024967426563, -3.1943024967426563, -3.1943024967426563, -3.1943024967426563, -3.1943024967426563]\n",
      "repetition 27: performance=[-3.1943024967426563, -3.1943024967426563, -3.1943024967426563, -3.1943024967426563, -3.1943024967426563, -3.1943024967426563, -3.1943024967426563, -3.1943024967426563, -3.1943024967426563, -3.1943024967426563, -3.1943024967426563]\n",
      "repetition 28: performance=[-0.05114787367024709, -0.09251282693242024, -0.06279477950390766, -0.010849562743225238, -0.011682697638411454, 0.14667438300183377, 0.4669360106256901, 0.5215497915859963, 0.6121241741360153, 0.6214149991721178, 0.619188195222209]\n",
      "repetition 29: performance=[-0.13207388182684454, -0.11988394501927324, -0.1054893607610814, -0.054300258513077404, 0.0026509426223564336, 0.07184920300736009, 0.47839736151109913, 0.5741726636934246, 0.6191249089501129, 0.6329833824098682, 0.5933628793932668]\n"
     ]
    }
   ],
   "source": [
    "nn_results = iid_level_experiment(NNModel, repeats=30)"
   ]
  },
  {
   "cell_type": "markdown",
   "metadata": {},
   "source": [
    "To visualise the differences between the models in terms of performance, we first remove outliers using the local outlier factor, then plot the mean $R^2$ scores with respect to the proportion of i.i.d. data.\n",
    "We can see that the ridge regression model is more resilient to non-i.i.d. data due to the smaller optimal parameter space cause by the regularisation term, however, it still suffers from negative impacts\n",
    "and in the best conditions, it does not perform as well as the neural network."
   ]
  },
  {
   "cell_type": "code",
   "execution_count": 23,
   "metadata": {},
   "outputs": [
    {
     "data": {
      "image/png": "[encoded data removed]",
      "text/plain": [
       "<Figure size 640x480 with 1 Axes>"
      ]
     },
     "metadata": {},
     "output_type": "display_data"
    }
   ],
   "source": [
    "from sklearn.neighbors import LocalOutlierFactor\n",
    "\n",
    "def clean_summarise_results(results: List[List[float]]):\n",
    "    results = np.array(results)\n",
    "    inliers = LocalOutlierFactor().fit_predict(results) > 0\n",
    "    return results[inliers]\n",
    "\n",
    "nn_results = clean_summarise_results(nn_results)\n",
    "ridge_results = clean_summarise_results(ridge_results)\n",
    "\n",
    "plt.plot(np.linspace(0.0, 1.0, ridge_results.shape[-1]), ridge_results.mean(axis=0), '-o', label=\"Ridge\")\n",
    "plt.plot(np.linspace(0.0, 1.0, nn_results.shape[-1]), nn_results.mean(axis=0), '-^', label=\"Neural Network\")\n",
    "plt.ylabel(\"$R^2$ Score\")\n",
    "plt.xlabel(\"Proportion i.i.d.\")\n",
    "plt.xticks(np.linspace(0.0, 1.0, 11))\n",
    "plt.legend(title=\"Model\")\n",
    "plt.show()"
   ]
  },
  {
   "cell_type": "markdown",
   "metadata": {},
   "source": [
    "# Applying the Ridge Term in Neural Network Learning\n",
    "\n",
    "Given that we see benefits in applying rigde regression when learning hightly non-i.i.d. data, another question is posed of ''what happens when the ridge term is used in the neural network loss function?''\n",
    "In the following, we explore this question. First we define the model and shoe that it remains effective at centralised learning with performance close to the neural network alone."
   ]
  },
  {
   "cell_type": "code",
   "execution_count": 24,
   "metadata": {},
   "outputs": [
    {
     "data": {
      "text/plain": [
       "{'R2 score': 0.5880288336851123, 'MAE': 0.5274157266378449}"
      ]
     },
     "execution_count": 24,
     "metadata": {},
     "output_type": "execute_result"
    }
   ],
   "source": [
    "def reg_mae(model, lamb=0.5):\n",
    "    def _apply(variables, X, Y):\n",
    "        reg = sum((l**2).mean() for l in jax.tree_util.tree_leaves(variables))\n",
    "        return jnp.mean(jnp.abs(Y - model.apply(variables, X).reshape(-1))) + lamb * reg\n",
    "    return _apply\n",
    "\n",
    "\n",
    "@functools.cache\n",
    "def get_reg_adam_solver():\n",
    "    solver = jaxopt.OptaxSolver(reg_mae(Net()), optax.adam(0.001))\n",
    "    return solver, jax.jit(solver.update)\n",
    "\n",
    "\n",
    "@functools.cache\n",
    "def get_reg_sgd_solver():\n",
    "    solver = jaxopt.OptaxSolver(reg_mae(Net()), optax.sgd(0.1))\n",
    "    return solver, jax.jit(solver.update)\n",
    "\n",
    "\n",
    "class RegNNModel(NNModel):\n",
    "    def __init__(self, input_shape, optimizer=\"adam\", seed=52):\n",
    "        super().__init__(input_shape, optimizer, seed)\n",
    "        if optimizer == \"adam\":\n",
    "            solver, self.solver_step = get_reg_adam_solver()\n",
    "        else:\n",
    "            solver, self.solver_step = get_reg_sgd_solver()\n",
    "        self.state = solver.init_state(self.parameters, X=jnp.zeros((1,) + input_shape), Y=jnp.zeros((1,)))\n",
    "\n",
    "model = RegNNModel(X_train[0].shape, seed=seed)\n",
    "model.fit(X_train, Y_train, batch_size=batch_size, epochs=num_epochs, verbose=0)\n",
    "evaluate(Y_test, model.predict(X_test))"
   ]
  },
  {
   "cell_type": "markdown",
   "metadata": {},
   "source": [
    "Next, as expected, we see that each variation of federated learning of non-iid data is ineffective."
   ]
  },
  {
   "cell_type": "code",
   "execution_count": 25,
   "metadata": {},
   "outputs": [
    {
     "data": {
      "application/vnd.jupyter.widget-view+json": {
       "model_id": "85abb64269e349c4b9a2d576e2978645",
       "version_major": 2,
       "version_minor": 0
      },
      "text/plain": [
       "  0%|          | 0/250 [00:00<?, ?it/s]"
      ]
     },
     "metadata": {},
     "output_type": "display_data"
    },
    {
     "data": {
      "text/plain": [
       "{'R2 score': -0.11646710905334312, 'MAE': 0.8989202141586939}"
      ]
     },
     "execution_count": 25,
     "metadata": {},
     "output_type": "execute_result"
    }
   ],
   "source": [
    "federated_learning(RegNNModel, fedavg, non_iid_client_data(X_train, Y_train))"
   ]
  },
  {
   "cell_type": "code",
   "execution_count": 26,
   "metadata": {},
   "outputs": [
    {
     "data": {
      "application/vnd.jupyter.widget-view+json": {
       "model_id": "476b4526803e4efd9ed34e58cb3ce4f3",
       "version_major": 2,
       "version_minor": 0
      },
      "text/plain": [
       "  0%|          | 0/250 [00:00<?, ?it/s]"
      ]
     },
     "metadata": {},
     "output_type": "display_data"
    },
    {
     "data": {
      "text/plain": [
       "{'R2 score': -0.0437913514092787, 'MAE': 0.8853426853389056}"
      ]
     },
     "execution_count": 26,
     "metadata": {},
     "output_type": "execute_result"
    }
   ],
   "source": [
    "federated_learning(RegNNModel, FedAdam(), non_iid_client_data(X_train, Y_train))"
   ]
  },
  {
   "cell_type": "code",
   "execution_count": 27,
   "metadata": {},
   "outputs": [
    {
     "data": {
      "application/vnd.jupyter.widget-view+json": {
       "model_id": "c55d3122362043f8aad75b5d3c3e45ef",
       "version_major": 2,
       "version_minor": 0
      },
      "text/plain": [
       "  0%|          | 0/250 [00:00<?, ?it/s]"
      ]
     },
     "metadata": {},
     "output_type": "display_data"
    },
    {
     "data": {
      "text/plain": [
       "{'R2 score': 0.0004566515906156976, 'MAE': 0.9225850550357501}"
      ]
     },
     "execution_count": 27,
     "metadata": {},
     "output_type": "execute_result"
    }
   ],
   "source": [
    "federated_learning(functools.partial(RegNNModel, optimizer=\"sgd\"), FedAdam(), non_iid_client_data(X_train, Y_train))"
   ]
  },
  {
   "cell_type": "markdown",
   "metadata": {},
   "source": [
    "However, for mixed i.i.d. data, performance close to the ridge regression model."
   ]
  },
  {
   "cell_type": "code",
   "execution_count": 28,
   "metadata": {},
   "outputs": [
    {
     "data": {
      "application/vnd.jupyter.widget-view+json": {
       "model_id": "2ddb578e05be454e94f632605ff528d0",
       "version_major": 2,
       "version_minor": 0
      },
      "text/plain": [
       "  0%|          | 0/250 [00:00<?, ?it/s]"
      ]
     },
     "metadata": {},
     "output_type": "display_data"
    },
    {
     "data": {
      "text/plain": [
       "{'R2 score': 0.23574586496664907, 'MAE': 0.7688994706682734}"
      ]
     },
     "execution_count": 28,
     "metadata": {},
     "output_type": "execute_result"
    }
   ],
   "source": [
    "federated_learning(RegNNModel, fedavg, mixed_iid_client_data(X_train, Y_train, 0.4))"
   ]
  },
  {
   "cell_type": "markdown",
   "metadata": {},
   "source": [
    "For completeness, we perform the experiment across all levels of i.i.d."
   ]
  },
  {
   "cell_type": "code",
   "execution_count": 29,
   "metadata": {},
   "outputs": [
    {
     "data": {
      "application/vnd.jupyter.widget-view+json": {
       "model_id": "873be4fc4f3b42d89d3a010b2e9e3e36",
       "version_major": 2,
       "version_minor": 0
      },
      "text/plain": [
       "  0%|          | 0/30 [00:00<?, ?it/s]"
      ]
     },
     "metadata": {},
     "output_type": "display_data"
    },
    {
     "name": "stdout",
     "output_type": "stream",
     "text": [
      "repetition 0: performance=[-0.11192592707260518, -0.1322596420426161, -0.07385795046132326, -0.00519540230496518, 0.06718438032262297, 0.4071904100103986, 0.5489638347439523, 0.5723903074655061, 0.628410562614842, 0.6351714564550612, 0.624345895177466]\n",
      "repetition 1: performance=[-0.0550205746045489, -0.05628067424848404, -0.053081710662206794, -0.0022361402986299517, 0.18201062115914413, 0.41556980904603824, 0.5336919340298589, 0.5750339464488007, 0.6097539021564616, 0.631914599484066, 0.6156611915736078]\n",
      "repetition 2: performance=[-0.06779830936148912, -0.09655528318833251, -0.0476464495031268, 0.021902845572911334, 0.17275618772723966, 0.38240630323308056, 0.5333545879050245, 0.5730873257991095, 0.5896025267811471, 0.6276096370832124, 0.6299467601373188]\n",
      "repetition 3: performance=[-0.15397922438077094, -0.12025550576792665, -0.037695909557633245, -0.01443155795238571, 0.11878068802378772, 0.41109255704658565, 0.57006796912401, 0.571247429262852, 0.609632993698516, 0.6349413023063002, 0.6303355200183576]\n",
      "repetition 4: performance=[-0.048436655380880156, -0.02964807023924143, -0.04738029500045582, -0.040955278969549536, 0.15260764413737848, 0.30098437982367054, 0.5366565181134906, 0.5820786002268912, 0.6221045268107569, 0.6412173355418087, 0.630437489931325]\n",
      "repetition 5: performance=[-0.12271381377775459, -0.12128193689780908, -0.051694079266903614, 0.043517331129891756, 0.13131812866653725, 0.33868628793696487, 0.5256837119990394, 0.5871934839323615, 0.6024591508767956, 0.6337235248858066, 0.613312131493384]\n",
      "repetition 6: performance=[-0.05402769437756505, -0.0931268228997415, -0.06612200807265167, -0.011102173534331072, 0.09927614035658816, 0.42796391920020493, 0.5255545817467528, 0.5759459323275129, 0.5924220652194397, 0.6348801112068425, 0.6132115717477811]\n",
      "repetition 7: performance=[-0.05673834140379741, -0.05787662745751754, -0.02430795022104859, -0.04294117836701883, 0.00723626451155035, 0.26635704446805264, 0.42645186679172853, 0.49980156820105504, 0.5887528362617319, 0.5854411069634099, 0.5636522690472401]\n",
      "repetition 8: performance=[-0.12779371665297057, -0.1204094658985726, -0.0814644560211153, 0.029686809376986534, 0.24314215126953753, 0.4537362696218351, 0.5615245844248453, 0.5784301414471456, 0.6151122308129705, 0.6260852929282418, 0.6181081106407582]\n",
      "repetition 9: performance=[-0.036756008591927625, -0.03578973049712619, -0.08226405356816957, -0.0009279616596904461, 0.2147708231105, 0.44877784498533324, 0.5236410340196321, 0.6057726795580154, 0.6009326622410964, 0.6266110569454638, 0.6242402260178803]\n",
      "repetition 10: performance=[-0.045835911632149395, -0.12687690788954287, -0.058511311161127955, 0.08483293660953128, 0.12153530553686098, 0.4805690203231462, 0.5707303728005442, 0.592078676304558, 0.6212185208973149, 0.6375743936227172, 0.627418970039511]\n",
      "repetition 11: performance=[-0.13986038660937972, -0.12877590454176024, -0.09687539133240786, 0.02414199042549192, 0.16448462787731188, 0.42236397415834115, 0.5667886239969151, 0.595521405057476, 0.6386591172069531, 0.6392272472510112, 0.6342606582387772]\n",
      "repetition 12: performance=[-0.13992472697393765, -0.06654830807509993, -0.03439900560622999, 0.01032081030641574, 0.13883515177969508, 0.3528022807525578, 0.5381477758005813, 0.6077784720104222, 0.6338372502438792, 0.6318429579305196, 0.6136252658490203]\n",
      "repetition 13: performance=[-0.043400064059498256, -0.10284808101227472, -0.025425833896589367, 0.05741680349437395, 0.1832482470759761, 0.4292425796497569, 0.5244752119307707, 0.57205338955351, 0.6245687714667242, 0.6345996322243495, 0.6133964428425158]\n",
      "repetition 14: performance=[-0.0537972382271108, -0.11487694087397227, -0.04992703248116315, -0.016031929697856384, 0.00028237431915845157, 0.021184016116398197, 0.10248389140453296, 0.07515105512746656, 0.5209096745189656, 0.5420010031859582, 0.5405737347520496]\n",
      "repetition 15: performance=[-0.054370382938816464, -0.060693123547166605, -0.022137428108790713, 0.006625544285022045, 0.12023334315141776, 0.41982520367478293, 0.5872749880585875, 0.6042339670707615, 0.6327374227243874, 0.6409024354619919, 0.6222463506397787]\n",
      "repetition 16: performance=[-0.11660098003243236, -0.058740685411073246, -0.06604512414171593, -0.056410564869291635, 0.053228046634048676, 0.283801179661182, 0.5243774170303475, 0.49638064456187836, 0.6031602416802786, 0.6231499985897504, 0.6157138224157725]\n",
      "repetition 17: performance=[-0.02307024945396563, -0.09377808242419516, 0.013856896338462987, 0.06625919513038159, 0.10586036429897872, 0.44863621119371333, 0.5813758094310271, 0.5879583413895785, 0.6074127019749992, 0.6149868345325318, 0.6261964833174906]\n",
      "repetition 18: performance=[-0.07756321792509846, -0.04501698529921527, -0.026556171005005957, 0.10645499470121278, 0.1030915371108796, 0.37799315974595626, 0.5375863368896043, 0.5690233016356909, 0.6258899319832256, 0.6080035203485736, 0.6136741207782124]\n",
      "repetition 19: performance=[-0.060343940359038895, -0.13782758383195892, -0.039538095117243044, 0.03346615714798673, 0.21151083439437657, 0.4150316716032715, 0.5755734892200909, 0.5863354418894929, 0.6322982335017213, 0.6285207830308387, 0.6326902026416406]\n",
      "repetition 20: performance=[-0.05519238573339602, -0.05810638303176918, -0.046133016849769115, 0.00475598753410289, 0.11252807254326924, 0.40019873837444975, 0.5685242635996678, 0.6124823743839383, 0.6335452686537832, 0.6219948867727424, 0.6273226238421271]\n",
      "repetition 21: performance=[-0.12943791162839702, -0.053463935001676344, -0.06242516486636829, 0.002054053356313368, 0.21105206060855852, 0.41257575594524754, 0.5333774463126633, 0.5747442386603527, 0.5937267499441627, 0.6306858280939625, 0.6266150632342496]\n",
      "repetition 22: performance=[-0.058089397809986565, -0.1302535500215245, -0.025955864399175077, 0.022374284572957315, 0.0716681795212355, 0.4488095656618053, 0.531486375553009, 0.5744821199668126, 0.6018709644986648, 0.6314387155215355, 0.6311670332841837]\n",
      "repetition 23: performance=[-0.04632249599471461, -0.04978379969083013, -0.006631029414279732, 0.023864235015837898, 0.13506022544979646, 0.43037066442897565, 0.5648680911605558, 0.5930257248192305, 0.6196742945136242, 0.6292540888766704, 0.6268550959413202]\n",
      "repetition 24: performance=[-0.06789692207872289, -0.054762273750174284, -0.02484577822451839, 0.12434295165210829, 0.2727295692445231, 0.4260986935140586, 0.5298253550875769, 0.5712523107357488, 0.6229875356030146, 0.6357552652364131, 0.6232905794827506]\n",
      "repetition 25: performance=[-0.044765737742823664, -0.11336075760365438, -0.041040464837405644, 0.057829505237111056, 0.1056426773906809, 0.36006928860353327, 0.5324534204024833, 0.5192130773622681, 0.5932850540963978, 0.6270368720722368, 0.6289218016086981]\n",
      "repetition 26: performance=[-0.06458198956841343, -0.08114316684494649, -0.019952083225188266, 0.006765479954159881, 0.1621377169809004, 0.4895965714680153, 0.5775238800913374, 0.5929068669508102, 0.6285003817794799, 0.6384638452668019, 0.627385606624971]\n",
      "repetition 27: performance=[-0.1327864311941087, -0.05820458977708509, -0.04101918484265887, -0.11003006863776865, 0.0041369275867712, 0.04332374072521339, 0.023919239486347332, 0.11119297472775369, 0.26215336355368857, 0.10742843179127715, 0.2713132660895178]\n",
      "repetition 28: performance=[-0.12088892660031325, -0.03604024859501598, -0.07534197674863918, 0.020231989956053242, 0.17104606609174877, 0.45057665529654856, 0.5477866791894477, 0.5628112821907616, 0.6346249548441756, 0.6353077873379105, 0.6127475615487084]\n",
      "repetition 29: performance=[-0.1382693365049199, -0.13189420458862244, -0.07904154760549575, 0.008910615561641522, 0.2457961620621787, 0.3974941968577793, 0.5503927099627912, 0.5783078834991915, 0.6243639286407703, 0.6308023516246337, 0.6284380545816676]\n"
     ]
    }
   ],
   "source": [
    "reg_nn_results = iid_level_experiment(RegNNModel, repeats=30)"
   ]
  },
  {
   "cell_type": "markdown",
   "metadata": {},
   "source": [
    "Plotting the results, we see that adding the ridge term to the neural network model improves the performance of the standard neural network, however,\n",
    "the ridge regression model still remains better when the data is highly non-i.i.d."
   ]
  },
  {
   "cell_type": "code",
   "execution_count": 30,
   "metadata": {},
   "outputs": [
    {
     "data": {
      "image/png": "[encoded data removed]",
      "text/plain": [
       "<Figure size 640x480 with 1 Axes>"
      ]
     },
     "metadata": {},
     "output_type": "display_data"
    }
   ],
   "source": [
    "reg_nn_results = clean_summarise_results(reg_nn_results)\n",
    "\n",
    "plt.plot(np.linspace(0.0, 1.0, ridge_results.shape[-1]), ridge_results.mean(axis=0), '-o', label=\"Ridge Regression\")\n",
    "plt.plot(np.linspace(0.0, 1.0, nn_results.shape[-1]), nn_results.mean(axis=0), '-^', label=\"Neural Network\")\n",
    "plt.plot(np.linspace(0.0, 1.0, reg_nn_results.shape[-1]), reg_nn_results.mean(axis=0), '-s', label=\"Ridge Neural Network\")\n",
    "plt.ylabel(\"$R^2$ Score\")\n",
    "plt.xlabel(\"Proportion i.i.d.\")\n",
    "plt.xticks(np.linspace(0.0, 1.0, 11))\n",
    "plt.legend(title=\"Model\")\n",
    "plt.show()"
   ]
  }
 ],
 "metadata": {
  "kernelspec": {
   "display_name": "Python 3 (ipykernel)",
   "language": "python",
   "name": "python3"
  },
  "language_info": {
   "codemirror_mode": {
    "name": "ipython",
    "version": 3
   },
   "file_extension": ".py",
   "mimetype": "text/x-python",
   "name": "python",
   "nbconvert_exporter": "python",
   "pygments_lexer": "ipython3",
   "version": "3.11.5"
  }
 },
 "nbformat": 4,
 "nbformat_minor": 4
}
